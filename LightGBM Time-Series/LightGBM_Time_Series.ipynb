{
  "nbformat": 4,
  "nbformat_minor": 0,
  "metadata": {
    "language_info": {
      "name": "python",
      "version": "3.6.4",
      "mimetype": "text/x-python",
      "codemirror_mode": {
        "name": "ipython",
        "version": 3
      },
      "pygments_lexer": "ipython3",
      "nbconvert_exporter": "python",
      "file_extension": ".py"
    },
    "kernelspec": {
      "name": "python3",
      "display_name": "Python 3"
    },
    "colab": {
      "name": "LightGBM Time-Series.ipynb",
      "provenance": [],
      "collapsed_sections": [],
      "machine_shape": "hm"
    },
    "accelerator": "GPU"
  },
  "cells": [
    {
      "cell_type": "markdown",
      "metadata": {
        "id": "FUEFKRfF8SWa",
        "colab_type": "text"
      },
      "source": [
        "# Model: LightGBM with Robust Time-Series \n"
      ]
    },
    {
      "cell_type": "code",
      "metadata": {
        "id": "pLcIcA0C8SWf",
        "colab_type": "code",
        "colab": {}
      },
      "source": [
        "# Load libraries\n",
        "import warnings\n",
        "warnings.filterwarnings('ignore')\n",
        "\n",
        "import pandas as pd\n",
        "import numpy as np\n",
        "import lightgbm as lgb\n",
        "import xgboost as xgb\n",
        "\n",
        "import matplotlib.pyplot as plt\n",
        "\n",
        "import pdb\n",
        "import os\n",
        "import gc; gc.enable()\n",
        "import h5py\n",
        "import pickle\n",
        "\n",
        "from sklearn.preprocessing import StandardScaler\n",
        "from sklearn.model_selection import KFold\n",
        "from sklearn.model_selection import train_test_split\n",
        "from sklearn.metrics import mean_squared_error\n"
      ],
      "execution_count": 0,
      "outputs": []
    },
    {
      "cell_type": "code",
      "metadata": {
        "id": "-lF99pv0sm3h",
        "colab_type": "code",
        "colab": {}
      },
      "source": [
        "train = pd.read_csv(\"/content/train.csv.zip\")\n",
        "test = pd.read_csv(\"/content/test.csv.zip\")"
      ],
      "execution_count": 0,
      "outputs": []
    },
    {
      "cell_type": "code",
      "metadata": {
        "id": "NZ6lb4MJ02t1",
        "colab_type": "code",
        "colab": {}
      },
      "source": [
        "# Helper functions\n",
        "\n",
        "# Function for loading h5py file\n",
        "def load_h5py(fname):\n",
        "    with h5py.File(fname, 'r') as handle:\n",
        "        return handle['data'][:]\n",
        "# Function for loading pickle file\n",
        "def load_pickle(fname):\n",
        "    with open(fname, 'rb') as handle:\n",
        "        return pickle.load(handle)\n",
        "\n",
        "# Function for saving data as pickle files\n",
        "def save_as_pickle(fname, data):\n",
        "    with open(fname, 'wb') as handle:\n",
        "        pickle.dump(data, handle, protocol=pickle.HIGHEST_PROTOCOL)\n",
        "\n",
        "# Function for saving datasets in h5py format\n",
        "def save_as_h5py(fname, data):\n",
        "    data.drop(columns=['ID'], inplace=True)\n",
        "    with h5py.File(fname, 'w') as handle:\n",
        "        handle.create_dataset('data', data=data)\n",
        "    return None\n",
        "\n",
        "# Custom evaluation metric for LGBM\n",
        "def RMSLE(preds, train_data):\n",
        "    return 'RMSLE', np.sqrt(mean_squared_error(train_data.get_label(), preds)), False\n",
        "\n",
        "\n",
        "# Function for evaluating mean errors\n",
        "def average_best_scores(scores):\n",
        "    s_cols = [c for c in scores.columns if c!='index']\n",
        "    errs = scores[s_cols].apply(lambda x: np.min(x[x!=np.nan]), axis=0)\n",
        "    return np.mean(errs)\n",
        "\n",
        "\n",
        "# Function for plotting RMSLE averaged over all iterations\n",
        "def plot_scores(t_scores, v_scores):\n",
        "    s_cols = [c for c in t_scores.columns if c!='index']\n",
        "    t_mean = np.mean(t_scores[s_cols], axis=1)\n",
        "    t_mean = t_mean[~np.isnan(t_mean)]\n",
        "    v_mean = np.mean(v_scores[s_cols], axis=1)\n",
        "    v_mean = v_mean[~np.isnan(v_mean)]\n",
        "    \n",
        "    plt.figure(figsize=(10, 6))\n",
        "    plt.plot(v_mean, label='validation', c='lightblue', alpha=0.7)\n",
        "    plt.plot(t_mean, label='training', c='blue', alpha=0.7)\n",
        "    plt.title('Averaged Training and Validation Error')\n",
        "    plt.xlabel('Training Iteration')\n",
        "    plt.ylabel('RMSLE')\n",
        "    plt.legend(loc='upper right')\n",
        "    plt.show()\n",
        "    return None\n"
      ],
      "execution_count": 0,
      "outputs": []
    },
    {
      "cell_type": "code",
      "metadata": {
        "id": "9KzpKEKe9M1B",
        "colab_type": "code",
        "colab": {}
      },
      "source": [
        "# Function for setting up\n",
        "def get_input(debug=False):\n",
        "    '''\n",
        "    Function for loading either debug or full datasets\n",
        "    '''\n",
        "    os.chdir('/content/data/compressed/')\n",
        "    print (os.getcwd())\n",
        "    pkl_files = ['train_id.pickle', 'trainidx.pickle', 'target.pickle', 'test_id.pickle', 'testidx.pickle']\n",
        "    if debug:\n",
        "        print ('Loading debug train and test datasets...')\n",
        "        # h5py files\n",
        "        train = load_h5py('debug_train.h5')\n",
        "        test = load_h5py('debug_test.h5')\n",
        "        # pickle files\n",
        "        id_train, train_idx, target, id_test, test_idx = [load_pickle('debug_%s'%f) for f in pkl_files]\n",
        "    else:\n",
        "        print ('Loading original train and test datasets...')\n",
        "        # h5py files\n",
        "        train = load_h5py('full_train.h5')\n",
        "        test = load_h5py('full_test.h5')\n",
        "        # pickle files\n",
        "        id_train, train_idx, target, id_test, test_idx = [load_pickle('full_%s'%f) for f in pkl_files]\n",
        "    # Load feature names\n",
        "    fnames = load_pickle('feature_names.pickle')\n",
        "    # Find shape of loaded datasets\n",
        "    print('Shape of training dataset: {} Rows, {} Columns'.format(*train.shape))\n",
        "    print('Shape of test dataset: {} Rows, {} Columns'.format(*test.shape))\n",
        "    os.chdir('/content/scripts/')\n",
        "    print (os.getcwd())\n",
        "    return fnames, train, id_train, train_idx, target, test, id_test, test_idx"
      ],
      "execution_count": 0,
      "outputs": []
    },
    {
      "cell_type": "code",
      "metadata": {
        "id": "JOnuKYOT9WZd",
        "colab_type": "code",
        "colab": {}
      },
      "source": [
        "# Function for getting datasets in dataframe format\n",
        "def get_dataframes(debug=False):\n",
        "    # Load data\n",
        "    fnames, train, id_train, train_idx, target, test, id_test, test_idx = get_input(debug)\n",
        "    # Format data\n",
        "    train_df = pd.DataFrame(data=train, index=train_idx, columns=fnames)\n",
        "    train_df['ID'] = id_train\n",
        "    train_df['target'] = target\n",
        "    test_df = pd.DataFrame(data=test, index=test_idx, columns=fnames)\n",
        "    test_df['ID'] = id_test\n",
        "    \n",
        "    print('\\nShape of training dataframe: {} Rows, {} Columns'.format(*train_df.shape))\n",
        "    print('Shape of test dataframe: {} Rows, {} Columns'.format(*test_df.shape))\n",
        "    return fnames, train_df, test_df"
      ],
      "execution_count": 0,
      "outputs": []
    },
    {
      "cell_type": "code",
      "metadata": {
        "id": "pSZ2ciW79aDV",
        "colab_type": "code",
        "colab": {}
      },
      "source": [
        "# Function for loading leaks\n",
        "def load_leaks(leak_val):\n",
        "    leak_dir = '/content/data/data_leak/'\n",
        "    \n",
        "    train_leak_loc = leak_dir + 'train_leak_%s.csv'%leak_val\n",
        "    train_leak = pd.read_csv(train_leak_loc).compiled_leak\n",
        "    test_leak_loc = leak_dir + 'test_leak_%s.csv'%leak_val\n",
        "    test_leak = pd.read_csv(test_leak_loc).compiled_leak\n",
        "    \n",
        "    return train_leak, test_leak"
      ],
      "execution_count": 0,
      "outputs": []
    },
    {
      "cell_type": "code",
      "metadata": {
        "id": "iodq0mcN9fgC",
        "colab_type": "code",
        "colab": {}
      },
      "source": [
        "# Function for applying statistical transformations to data\n",
        "def calculate_metadata(df):\n",
        "    '''\n",
        "    Function for calculating metadata across pandas dataframe row\n",
        "    '''\n",
        "    meta = pd.DataFrame()\n",
        "    # Calculations that disregard zeros\n",
        "    meta['nz_mean'] = df.apply(lambda x: x[x!=0].mean(), axis=1)\n",
        "    meta['nz_log_mean_exp'] = df.apply(lambda x: np.expm1(np.mean(np.log1p(x[x!=0]))), axis=1)\n",
        "    meta['nz_median'] = df.apply(lambda x: x[x!=0].median(), axis=1)\n",
        "    meta['nz_std'] = df.apply(lambda x: x[x!=0].std(), axis=1)\n",
        "    meta['nz_kurtosis'] = df.apply(lambda x: x[x!=0].kurtosis(), axis=1)\n",
        "    meta['nz_min'] = df.apply(lambda x: np.min(x[x!=0]), axis=1)\n",
        "    \n",
        "    # Calculations independent of zeros\n",
        "    meta['sum'] = df.apply(lambda x: np.sum(x), axis=1)\n",
        "    meta['max'] = df.apply(lambda x: np.max(x), axis=1)\n",
        "    \n",
        "    # Calculations factoring in zeros\n",
        "    meta['zero_count'] = df.apply(lambda x: np.count_nonzero(x==0), axis=1)\n",
        "    meta['mean'] = df.apply(lambda x: x.mean(), axis=1)\n",
        "    meta['log_mean_exp'] = df.apply(lambda x: np.expm1(np.mean(np.log1p(x))), axis=1)\n",
        "    meta['median'] = df.apply(lambda x: x.median(), axis=1)\n",
        "    meta['std'] = df.apply(lambda x: x.std(), axis=1)\n",
        "    meta['kurtosis'] = df.apply(lambda x: x.kurtosis(), axis=1)\n",
        "    \n",
        "    return meta "
      ],
      "execution_count": 0,
      "outputs": []
    },
    {
      "cell_type": "code",
      "metadata": {
        "id": "DK_HJUqQ9jQN",
        "colab_type": "code",
        "colab": {}
      },
      "source": [
        "# Function for feature engineering\n",
        "def format_for_training_v1(train, test, f, trn_leak, tst_leak, lagval=38):\n",
        "    '''\n",
        "    - Formats train and test dataframes for training\n",
        "    '''\n",
        "    tmp_trn = train.copy(deep=True)\n",
        "    tmp_trn['leak'] = trn_leak\n",
        "    tmp_trn['log_leak'] = np.log1p(tmp_trn['leak'])\n",
        "    \n",
        "    tmp_tst = test.copy(deep=True)\n",
        "    tmp_tst['leak'] = tst_leak\n",
        "    tmp_tst['log_leak'] = np.log1p(tmp_tst['leak'])\n",
        "    \n",
        "    score_name = '/content/model/model_2v2_featscores_%s.csv'%lagval\n",
        "    print ('Loading file:\\n', score_name)\n",
        "    score_df = pd.read_csv(score_name, index_col=0)\n",
        "    \n",
        "    feature_list = load_pickle('/content/data/compressed/other_test.pickle')\n",
        "    good_features = []\n",
        "    for i in range(55):\n",
        "        good_features += feature_list[i]\n",
        "    \n",
        "    print ('\\nLoading metadata for training set...')\n",
        "    trn_meta = pd.read_csv('content/meta_data/train_meta.csv')\n",
        "    print ('Loading metadata for test set...')\n",
        "    tst_meta = pd.read_csv('content/meta_data/test_meta.csv')\n",
        "    \n",
        "    # Format training and test datasets\n",
        "    cols = ['ID'] + list(good_features) + list(trn_meta.columns.values) + ['log_leak']\n",
        "    tmp_trn = pd.concat([tmp_trn, trn_meta], axis=1)\n",
        "    tmp_tst = pd.concat([tmp_tst, tst_meta], axis=1)\n",
        "    \n",
        "    return tmp_trn[cols], tmp_tst[cols]\n"
      ],
      "execution_count": 0,
      "outputs": []
    },
    {
      "cell_type": "code",
      "metadata": {
        "id": "p-7GJONy-UXz",
        "colab_type": "code",
        "colab": {}
      },
      "source": [
        "# Function for scaling datasets \n",
        "def scale_for_training(train, test):\n",
        "    print ('Scaling data...')\n",
        "    tmp_trn = train.copy(deep=True)\n",
        "    tmp_trn.replace(np.nan, 0, inplace=True)\n",
        "    tmp_tst = test.copy(deep=True)\n",
        "    tmp_tst.replace(np.nan, 0, inplace=True)\n",
        "    \n",
        "    tmp_trn.drop(labels=['ID'], axis=1, inplace=True)\n",
        "    tmp_tst.drop(labels=['ID'], axis=1, inplace=True)\n",
        "    \n",
        "    scaler = StandardScaler()\n",
        "    scaled_train = scaler.fit_transform(tmp_trn)\n",
        "    scaled_test = scaler.transform(tmp_tst)\n",
        "    \n",
        "    del tmp_trn, tmp_tst; gc.collect();\n",
        "    return scaled_train, scaled_test"
      ],
      "execution_count": 0,
      "outputs": []
    },
    {
      "cell_type": "code",
      "metadata": {
        "id": "0ZJBtJwO-XK7",
        "colab_type": "code",
        "colab": {
          "base_uri": "https://localhost:8080/",
          "height": 235
        },
        "outputId": "a74f9307-6af6-4602-f998-3d13fe226cdc"
      },
      "source": [
        "try:\n",
        "    del fnames, train, test\n",
        "    print ('Clearing loaded dataframes from memory...\\n')\n",
        "except:\n",
        "    pass\n",
        "fnames, train, test = get_dataframes(debug=False)\n",
        "\n",
        "# Load leaks\n",
        "leak_val = 36\n",
        "print ('\\nLoading train and test leaks...')\n",
        "train_leak, test_leak = load_leaks(leak_val)\n",
        "print ('Nonzero elements in train:', np.count_nonzero(train_leak))\n",
        "print ('Nonzero elements in test:', np.count_nonzero(test_leak))"
      ],
      "execution_count": 10,
      "outputs": [
        {
          "output_type": "stream",
          "text": [
            "/content/data/compressed\n",
            "Loading original train and test datasets...\n",
            "Shape of training dataset: 4459 Rows, 4991 Columns\n",
            "Shape of test dataset: 49342 Rows, 4991 Columns\n",
            "/content/scripts\n",
            "\n",
            "Shape of training dataframe: 4459 Rows, 4993 Columns\n",
            "Shape of test dataframe: 49342 Rows, 4992 Columns\n",
            "\n",
            "Loading train and test leaks...\n",
            "Nonzero elements in train: 3840\n",
            "Nonzero elements in test: 7820\n"
          ],
          "name": "stdout"
        }
      ]
    },
    {
      "cell_type": "code",
      "metadata": {
        "id": "nfF3emjE-aCr",
        "colab_type": "code",
        "colab": {
          "base_uri": "https://localhost:8080/",
          "height": 72
        },
        "outputId": "fefa5d07-fcf2-4eda-fc8e-50512a7c8e77"
      },
      "source": [
        "# Get train and test in format for training booster\n",
        "# Format target variable\n",
        "target = train['target'].values\n",
        "target_log = np.log1p(target)\n",
        "\n",
        "pp_flag = False\n",
        "\n",
        "train_name = '/content/data/compressed/btrain_%s.csv'%leak_val\n",
        "test_name = '/content/data/compressed/btest_%s.csv'%leak_val\n",
        "if pp_flag:\n",
        "    btrain, btest = format_for_training_v1(train, test, fnames, train_leak, test_leak, leak_val)\n",
        "    print ('\\nSaving generated datasets...')\n",
        "    btrain.to_csv(train_name, index=False)\n",
        "    btest.to_csv(test_name, index=False)\n",
        "else:\n",
        "    print ('\\nLoading generated datasets...')\n",
        "    btrain = pd.read_csv(train_name)\n",
        "    btest = pd.read_csv(test_name)\n",
        "\n",
        "# Scale dataset for booster training\n",
        "boost_train, boost_test = scale_for_training(btrain, btest)"
      ],
      "execution_count": 11,
      "outputs": [
        {
          "output_type": "stream",
          "text": [
            "\n",
            "Loading generated datasets...\n",
            "Scaling data...\n"
          ],
          "name": "stdout"
        }
      ]
    },
    {
      "cell_type": "code",
      "metadata": {
        "id": "qGpd-KfE-7KZ",
        "colab_type": "code",
        "colab": {}
      },
      "source": [
        "# Function for training a LGB Regressor\n",
        "def train_lgb_regressor(train, target, test, params, n_boost=500):\n",
        "    num_boosting = n_boost\n",
        "    valid_result = pd.DataFrame(data=np.arange(num_boosting), columns=['index'])\n",
        "    train_result = pd.DataFrame(data=np.arange(num_boosting), columns=['index'])\n",
        "    test_predictions = np.zeros(test.shape[0])\n",
        "    train_predictions = np.zeros(train.shape[0])\n",
        "    kfold = KFold(n_splits=4)\n",
        "    \n",
        "    for i, (trn, val) in enumerate(kfold.split(train)):\n",
        "        print ('\\nTraining on fold:', i)\n",
        "        round_name = 'round_%s'%i\n",
        "        xtrain = train[trn, :]\n",
        "        ytrain = target[trn]\n",
        "\n",
        "        xval = train[val, :]\n",
        "        yval = target[val]\n",
        "\n",
        "        lgb_train = lgb.Dataset(xtrain, ytrain)\n",
        "        lgb_eval = lgb.Dataset(xval, yval, reference=lgb_train)\n",
        "\n",
        "        evals_result = {}\n",
        "        gbm = lgb.train(params,\n",
        "                        lgb_train,\n",
        "                        num_boost_round=num_boosting,\n",
        "                        valid_sets= (lgb_train, lgb_eval),\n",
        "                        verbose_eval=500,\n",
        "                        feval=RMSLE, \n",
        "                        evals_result=evals_result,\n",
        "                        early_stopping_rounds=100)\n",
        "\n",
        "        # Get evaluation results\n",
        "        valid_res_df = pd.DataFrame.from_dict(evals_result['valid_1'], orient='columns')\n",
        "        valid_res_df.rename(columns={'RMSLE': round_name}, inplace=True)\n",
        "        valid_res_df.reset_index(inplace=True)\n",
        "        train_res_df = pd.DataFrame.from_dict(evals_result['training'], orient='columns')\n",
        "        train_res_df.rename(columns={'RMSLE': round_name}, inplace=True)\n",
        "        train_res_df.reset_index(inplace=True)\n",
        "\n",
        "        valid_result = pd.merge(valid_result, valid_res_df, how='outer', on='index')\n",
        "        train_result = pd.merge(train_result, train_res_df, how='outer', on='index')\n",
        "\n",
        "        # Make predictions\n",
        "        test_predictions += (gbm.predict(test, num_iteration=gbm.best_iteration))/kfold.n_splits\n",
        "        train_predictions += (gbm.predict(train, num_iteration=gbm.best_iteration))/kfold.n_splits\n",
        "    \n",
        "    return train_result, valid_result, test_predictions, train_predictions\n",
        "\n",
        "# Function for evaluating trouble samples\n",
        "trouble_idx = np.where(train_leak==0)[0]\n",
        "def selective_eval(preds, target, idx):\n",
        "    pred_subset = preds[idx]\n",
        "    target_subset = target[idx]\n",
        "    return mean_squared_error(pred_subset, target_subset)\n"
      ],
      "execution_count": 0,
      "outputs": []
    },
    {
      "cell_type": "code",
      "metadata": {
        "id": "z7QGQ-WO-y6-",
        "colab_type": "code",
        "colab": {}
      },
      "source": [
        "# LGB Regressor Parameters\n",
        "params = {'task': 'train',\n",
        "          'boosting': 'gbdt',\n",
        "          'objective': 'regression',\n",
        "          'metric': 'RMSLE',\n",
        "          'num_leaves': 18,\n",
        "          'learning_rate': 0.05,\n",
        "          'max_depth': -1,\n",
        "          'feature_fraction': 0.9,\n",
        "          'bagging_fraction': 0.8,\n",
        "          'bagging_freq': 5,\n",
        "          'min_sum_hessian_in_leaf': 1e-3,\n",
        "          'lambda_l2': 10,\n",
        "          'verbose': 0}"
      ],
      "execution_count": 0,
      "outputs": []
    },
    {
      "cell_type": "code",
      "metadata": {
        "id": "yy7-jNZ2_DnP",
        "colab_type": "code",
        "colab": {}
      },
      "source": [
        "# Tune LGB Regressor Hyper-Parameters\n",
        "tune_flag = False\n",
        "if tune_flag:\n",
        "    cv_results = {}\n",
        "    for cv_val in cv_set:\n",
        "        print ('\\nCross validating with %s: %s'%(cv_entry, cv_val))\n",
        "        params[cv_entry] = cv_val\n",
        "        train_res, valid_res, tst_preds, trn_preds = train_lgb_regressor(train=boost_train, \n",
        "                                                                         target=target_log, \n",
        "                                                                         test=boost_test, \n",
        "                                                                         params=params, \n",
        "                                                                         n_boost=30000)\n",
        "        cv_results[cv_entry+'miss_train_val_%s'%cv_val] = (selective_eval(trn_preds, target_log, trouble_idx),\n",
        "                                                           average_best_scores(train_res), \n",
        "                                                           average_best_scores(valid_res))\n",
        "        \n",
        "    # Show cv results\n",
        "    print ('\\nCV Results:')\n",
        "    for key in cv_results.keys():\n",
        "        print (key, cv_results[key])"
      ],
      "execution_count": 0,
      "outputs": []
    },
    {
      "cell_type": "code",
      "metadata": {
        "id": "hbgj7RDO_Gs2",
        "colab_type": "code",
        "colab": {
          "base_uri": "https://localhost:8080/",
          "height": 472
        },
        "outputId": "8670f1d6-2c70-4a71-ba5c-e227f39cc763"
      },
      "source": [
        "# Confirm current parameter settings\n",
        "train_res, valid_res, tst_preds, trn_preds = train_lgb_regressor(train=boost_train, \n",
        "                                                                 target=target_log, \n",
        "                                                                 test=boost_test, \n",
        "                                                                 params=params, \n",
        "                                                                 n_boost=30000)\n",
        "train_score = average_best_scores(train_res)\n",
        "valid_score = average_best_scores(valid_res)\n",
        "print ('\\nTraining score:', train_score)\n",
        "print ('Validation score:', valid_score)\n",
        "print ('\\nTrouble score:', selective_eval(trn_preds, target_log, trouble_idx))"
      ],
      "execution_count": 15,
      "outputs": [
        {
          "output_type": "stream",
          "text": [
            "\n",
            "Training on fold: 0\n",
            "Training until validation scores don't improve for 100 rounds.\n",
            "Early stopping, best iteration is:\n",
            "[90]\ttraining's RMSLE: 0.390232\tvalid_1's RMSLE: 0.558706\n",
            "\n",
            "Training on fold: 1\n",
            "Training until validation scores don't improve for 100 rounds.\n",
            "Early stopping, best iteration is:\n",
            "[150]\ttraining's RMSLE: 0.363893\tvalid_1's RMSLE: 0.505681\n",
            "\n",
            "Training on fold: 2\n",
            "Training until validation scores don't improve for 100 rounds.\n",
            "Early stopping, best iteration is:\n",
            "[91]\ttraining's RMSLE: 0.416564\tvalid_1's RMSLE: 0.496632\n",
            "\n",
            "Training on fold: 3\n",
            "Training until validation scores don't improve for 100 rounds.\n",
            "Early stopping, best iteration is:\n",
            "[147]\ttraining's RMSLE: 0.347889\tvalid_1's RMSLE: 0.533418\n",
            "\n",
            "Training score: 0.31161670295047167\n",
            "Validation score: 0.5236091046336704\n",
            "\n",
            "Trouble score: 1.1562860665636496\n"
          ],
          "name": "stdout"
        }
      ]
    },
    {
      "cell_type": "code",
      "metadata": {
        "id": "armRH_2UBw2_",
        "colab_type": "code",
        "colab": {
          "base_uri": "https://localhost:8080/",
          "height": 404
        },
        "outputId": "45716414-f484-445e-a2d4-9ac0e564ad71"
      },
      "source": [
        "plot_scores(train_res, valid_res)"
      ],
      "execution_count": 16,
      "outputs": [
        {
          "output_type": "display_data",
          "data": {
            "image/png": "[encoded data removed]",
            "text/plain": [
              "<Figure size 720x432 with 1 Axes>"
            ]
          },
          "metadata": {
            "tags": []
          }
        }
      ]
    },
    {
      "cell_type": "code",
      "metadata": {
        "id": "uiOOkIJ0_NbC",
        "colab_type": "code",
        "colab": {}
      },
      "source": [
        "def make_target_v1(leak, preds):\n",
        "    exp_preds = np.expm1(preds)\n",
        "    \n",
        "    fill_idx = np.where(leak==0)[0]\n",
        "    \n",
        "    tmp_leak = leak.copy()\n",
        "    tmp_leak[fill_idx] = exp_preds[fill_idx]\n",
        "    return tmp_leak"
      ],
      "execution_count": 0,
      "outputs": []
    },
    {
      "cell_type": "markdown",
      "metadata": {
        "id": "e-bMRq_OCXKu",
        "colab_type": "text"
      },
      "source": [
        "### Submission"
      ]
    },
    {
      "cell_type": "code",
      "metadata": {
        "id": "htk7ghAY_P-S",
        "colab_type": "code",
        "colab": {
          "base_uri": "https://localhost:8080/",
          "height": 498
        },
        "outputId": "2588e50c-0a94-4bf0-f97c-67316ea1f71c"
      },
      "source": [
        "# Make submission\n",
        "save_flag=True\n",
        "\n",
        "tst_target = make_target_v1(test_leak, tst_preds)\n",
        "\n",
        "sub_name_tst = '/content/submissions/tstest_lgb_lag%s.csv'%leak_val\n",
        "\n",
        "\n",
        "tst_df = pd.DataFrame()\n",
        "tst_df['ID'] = test['ID']\n",
        "tst_df['target'] = tst_target\n",
        "\n",
        "\n",
        "if save_flag:\n",
        "    tst_df.to_csv(sub_name_tst, index=False)\n",
        "tst_df.head(15)"
      ],
      "execution_count": 18,
      "outputs": [
        {
          "output_type": "execute_result",
          "data": {
            "text/html": [
              "<div>\n",
              "<style scoped>\n",
              "    .dataframe tbody tr th:only-of-type {\n",
              "        vertical-align: middle;\n",
              "    }\n",
              "\n",
              "    .dataframe tbody tr th {\n",
              "        vertical-align: top;\n",
              "    }\n",
              "\n",
              "    .dataframe thead th {\n",
              "        text-align: right;\n",
              "    }\n",
              "</style>\n",
              "<table border=\"1\" class=\"dataframe\">\n",
              "  <thead>\n",
              "    <tr style=\"text-align: right;\">\n",
              "      <th></th>\n",
              "      <th>ID</th>\n",
              "      <th>target</th>\n",
              "    </tr>\n",
              "  </thead>\n",
              "  <tbody>\n",
              "    <tr>\n",
              "      <th>0</th>\n",
              "      <td>000137c73</td>\n",
              "      <td>2.818338e+06</td>\n",
              "    </tr>\n",
              "    <tr>\n",
              "      <th>1</th>\n",
              "      <td>00021489f</td>\n",
              "      <td>1.255667e+06</td>\n",
              "    </tr>\n",
              "    <tr>\n",
              "      <th>2</th>\n",
              "      <td>0004d7953</td>\n",
              "      <td>1.779918e+06</td>\n",
              "    </tr>\n",
              "    <tr>\n",
              "      <th>3</th>\n",
              "      <td>00056a333</td>\n",
              "      <td>3.005599e+06</td>\n",
              "    </tr>\n",
              "    <tr>\n",
              "      <th>4</th>\n",
              "      <td>00056d8eb</td>\n",
              "      <td>1.334687e+06</td>\n",
              "    </tr>\n",
              "    <tr>\n",
              "      <th>5</th>\n",
              "      <td>0005fc190</td>\n",
              "      <td>2.485740e+06</td>\n",
              "    </tr>\n",
              "    <tr>\n",
              "      <th>6</th>\n",
              "      <td>000787e86</td>\n",
              "      <td>1.035324e+06</td>\n",
              "    </tr>\n",
              "    <tr>\n",
              "      <th>7</th>\n",
              "      <td>0008510a0</td>\n",
              "      <td>2.125670e+06</td>\n",
              "    </tr>\n",
              "    <tr>\n",
              "      <th>8</th>\n",
              "      <td>000895faf</td>\n",
              "      <td>3.327137e+06</td>\n",
              "    </tr>\n",
              "    <tr>\n",
              "      <th>9</th>\n",
              "      <td>000986fba</td>\n",
              "      <td>2.490045e+06</td>\n",
              "    </tr>\n",
              "    <tr>\n",
              "      <th>10</th>\n",
              "      <td>0009efcc5</td>\n",
              "      <td>2.000000e+07</td>\n",
              "    </tr>\n",
              "    <tr>\n",
              "      <th>11</th>\n",
              "      <td>000dd8f00</td>\n",
              "      <td>1.327639e+07</td>\n",
              "    </tr>\n",
              "    <tr>\n",
              "      <th>12</th>\n",
              "      <td>000e1cdc2</td>\n",
              "      <td>1.761385e+06</td>\n",
              "    </tr>\n",
              "    <tr>\n",
              "      <th>13</th>\n",
              "      <td>00103739c</td>\n",
              "      <td>3.152117e+06</td>\n",
              "    </tr>\n",
              "    <tr>\n",
              "      <th>14</th>\n",
              "      <td>00134b367</td>\n",
              "      <td>7.028618e+05</td>\n",
              "    </tr>\n",
              "  </tbody>\n",
              "</table>\n",
              "</div>"
            ],
            "text/plain": [
              "           ID        target\n",
              "0   000137c73  2.818338e+06\n",
              "1   00021489f  1.255667e+06\n",
              "2   0004d7953  1.779918e+06\n",
              "3   00056a333  3.005599e+06\n",
              "4   00056d8eb  1.334687e+06\n",
              "5   0005fc190  2.485740e+06\n",
              "6   000787e86  1.035324e+06\n",
              "7   0008510a0  2.125670e+06\n",
              "8   000895faf  3.327137e+06\n",
              "9   000986fba  2.490045e+06\n",
              "10  0009efcc5  2.000000e+07\n",
              "11  000dd8f00  1.327639e+07\n",
              "12  000e1cdc2  1.761385e+06\n",
              "13  00103739c  3.152117e+06\n",
              "14  00134b367  7.028618e+05"
            ]
          },
          "metadata": {
            "tags": []
          },
          "execution_count": 18
        }
      ]
    },
    {
      "cell_type": "markdown",
      "metadata": {
        "id": "jy_S6XLNCbIo",
        "colab_type": "text"
      },
      "source": [
        "### Leaderboard Score:\n",
        "- **Public LB**: 0.51276\n",
        "- **Private LB**: 0.55922\n"
      ]
    }
  ]
}