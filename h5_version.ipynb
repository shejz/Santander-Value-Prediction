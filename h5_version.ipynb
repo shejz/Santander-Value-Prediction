{
  "nbformat": 4,
  "nbformat_minor": 0,
  "metadata": {
    "language_info": {
      "name": "python",
      "version": "3.6.4",
      "mimetype": "text/x-python",
      "codemirror_mode": {
        "name": "ipython",
        "version": 3
      },
      "pygments_lexer": "ipython3",
      "nbconvert_exporter": "python",
      "file_extension": ".py"
    },
    "kernelspec": {
      "name": "python3",
      "display_name": "Python 3"
    },
    "colab": {
      "name": "h5 version.ipynb",
      "provenance": [],
      "collapsed_sections": [],
      "machine_shape": "hm"
    },
    "accelerator": "GPU"
  },
  "cells": [
    {
      "cell_type": "markdown",
      "metadata": {
        "id": "B8N4zGTqFjTd",
        "colab_type": "text"
      },
      "source": [
        "### Converting datasets into h5 versions"
      ]
    },
    {
      "cell_type": "code",
      "metadata": {
        "id": "_EhWTOOSCCKR",
        "colab_type": "code",
        "colab": {}
      },
      "source": [
        "# Load libraries\n",
        "import os\n",
        "import pdb\n",
        "import h5py\n",
        "import shutil\n",
        "import pickle\n",
        "import pandas as pd\n",
        "\n",
        "\n",
        "import warnings\n",
        "warnings.filterwarnings('ignore')\n",
        "\n",
        "import pandas as pd\n",
        "import numpy as np\n",
        "\n",
        "from sklearn.metrics import mean_squared_error"
      ],
      "execution_count": 0,
      "outputs": []
    },
    {
      "cell_type": "code",
      "metadata": {
        "id": "eHuw_D2SO1Tf",
        "colab_type": "code",
        "colab": {}
      },
      "source": [
        "# Helper functions\n",
        "# Function for saving datasets in h5py format\n",
        "def save_as_h5py(fname, data):\n",
        "    data.drop(columns=['ID'], inplace=True)\n",
        "    with h5py.File(fname, 'w') as handle:\n",
        "        handle.create_dataset('data', data=data)\n",
        "    return None"
      ],
      "execution_count": 0,
      "outputs": []
    },
    {
      "cell_type": "code",
      "metadata": {
        "id": "OvPtGfDeO33c",
        "colab_type": "code",
        "colab": {}
      },
      "source": [
        "# Function for saving data as pickle files\n",
        "def save_as_pickle(fname, data):\n",
        "    with open(fname, 'wb') as handle:\n",
        "        pickle.dump(data, handle, protocol=pickle.HIGHEST_PROTOCOL)"
      ],
      "execution_count": 0,
      "outputs": []
    },
    {
      "cell_type": "code",
      "metadata": {
        "id": "h_JphdR9O8Zq",
        "colab_type": "code",
        "outputId": "92f95321-ca6a-47da-d7a5-db7ad793353b",
        "colab": {
          "base_uri": "https://localhost:8080/",
          "height": 54
        }
      },
      "source": [
        "# Load data\n",
        "data_path = '/content/data/'\n",
        "\n",
        "# Debug set\n",
        "print('Loading debug datasets...')\n",
        "debug_train = pd.read_csv(data_path + 'train_debug.csv', index_col=0)\n",
        "debug_test = pd.read_csv(data_path + 'test_debug.csv', index_col=0)\n",
        "\n",
        "# Full set\n",
        "print('Loading full datasets...')\n",
        "full_train = pd.read_csv('/content/train.csv.zip')\n",
        "full_test = pd.read_csv('/content/test.csv.zip')\n"
      ],
      "execution_count": 0,
      "outputs": [
        {
          "output_type": "stream",
          "text": [
            "Loading debug datasets...\n",
            "Loading full datasets...\n"
          ],
          "name": "stdout"
        }
      ]
    },
    {
      "cell_type": "code",
      "metadata": {
        "id": "Z1w4_lE5Sx-t",
        "colab_type": "code",
        "outputId": "7757d9c6-57ca-49d7-b8ee-f436859f7339",
        "colab": {
          "base_uri": "https://localhost:8080/",
          "height": 54
        }
      },
      "source": [
        "# Make folder for compressed folder\n",
        "compressed_path = '/content/data/compressed/'\n",
        "if os.path.exists(compressed_path):\n",
        "    print ('\\nRemoving old compressed folder...')\n",
        "    shutil.rmtree(compressed_path)\n",
        "    print ('Creating new compressed folder...')\n",
        "    os.mkdir(compressed_path)\n",
        "else:\n",
        "    print ('\\nCreating new compressed folder...')\n",
        "    os.mkdir(compressed_path)"
      ],
      "execution_count": 0,
      "outputs": [
        {
          "output_type": "stream",
          "text": [
            "\n",
            "Creating new compressed folder...\n"
          ],
          "name": "stdout"
        }
      ]
    },
    {
      "cell_type": "code",
      "metadata": {
        "id": "KrjSFI8hTJVf",
        "colab_type": "code",
        "outputId": "c1b714ba-2033-487d-9fdd-07e3c12219e2",
        "colab": {
          "base_uri": "https://localhost:8080/",
          "height": 54
        }
      },
      "source": [
        "# Save debug and full test sets' ID values\n",
        "print ('\\nSaving debug and full test set ID values...')\n",
        "debug_id_path = compressed_path + 'debug_test_id.pickle'\n",
        "full_id_path = compressed_path + 'full_test_id.pickle'\n",
        "with open(debug_id_path, 'wb') as handle:\n",
        "    pickle.dump(debug_test['ID'], handle)\n",
        "with open(full_id_path, 'wb') as handle:\n",
        "    pickle.dump(full_test['ID'], handle)"
      ],
      "execution_count": 0,
      "outputs": [
        {
          "output_type": "stream",
          "text": [
            "\n",
            "Saving debug and full test set ID values...\n"
          ],
          "name": "stdout"
        }
      ]
    },
    {
      "cell_type": "code",
      "metadata": {
        "id": "r-kh03KgToD1",
        "colab_type": "code",
        "outputId": "c7ccb5f5-de19-43a6-b282-2ce98bd96912",
        "colab": {
          "base_uri": "https://localhost:8080/",
          "height": 54
        }
      },
      "source": [
        "# Save debug and full test sets' ID values\n",
        "print('\\nSaving debug and full train set ID values...')\n",
        "debug_trid_path = compressed_path + 'debug_train_id.pickle'\n",
        "full_trid_path = compressed_path + 'full_train_id.pickle'\n",
        "save_as_pickle(debug_trid_path, debug_train['ID'])\n",
        "save_as_pickle(full_trid_path, full_train['ID'])"
      ],
      "execution_count": 0,
      "outputs": [
        {
          "output_type": "stream",
          "text": [
            "\n",
            "Saving debug and full train set ID values...\n"
          ],
          "name": "stdout"
        }
      ]
    },
    {
      "cell_type": "code",
      "metadata": {
        "id": "6J1yDFVFTsPd",
        "colab_type": "code",
        "outputId": "818ed6ac-ffa4-477c-ea93-fa6951e01fd4",
        "colab": {
          "base_uri": "https://localhost:8080/",
          "height": 72
        }
      },
      "source": [
        "# Save debug and full train sets' target values\n",
        "print ('\\nSaving debug and full train set target values...')\n",
        "debug_target_path = compressed_path + 'debug_target.pickle'\n",
        "full_target_path = compressed_path + 'full_target.pickle'\n",
        "with open(debug_target_path, 'wb') as handle:\n",
        "    pickle.dump(debug_train['target'], handle)\n",
        "with open(full_target_path, 'wb') as handle:\n",
        "    pickle.dump(full_train['target'], handle)\n",
        "print ('Removing target column for debug and full train sets...')\n",
        "debug_train.drop(columns=['target'], inplace=True)\n",
        "full_train.drop(columns=['target'], inplace=True)"
      ],
      "execution_count": 0,
      "outputs": [
        {
          "output_type": "stream",
          "text": [
            "\n",
            "Saving debug and full train set target values...\n",
            "Removing target column for debug and full train sets...\n"
          ],
          "name": "stdout"
        }
      ]
    },
    {
      "cell_type": "code",
      "metadata": {
        "id": "vCuA6aQ7T5u5",
        "colab_type": "code",
        "outputId": "561fb73d-37d8-48e8-fd57-7e7c8c327818",
        "colab": {
          "base_uri": "https://localhost:8080/",
          "height": 54
        }
      },
      "source": [
        "# Save feature names\n",
        "print('\\nSaving feature names...')\n",
        "features_path = compressed_path + 'feature_names.pickle'\n",
        "feature_names = debug_test.loc[:, debug_test.columns!='ID'].columns.values\n",
        "save_as_pickle(features_path, feature_names)"
      ],
      "execution_count": 0,
      "outputs": [
        {
          "output_type": "stream",
          "text": [
            "\n",
            "Saving feature names...\n"
          ],
          "name": "stdout"
        }
      ]
    },
    {
      "cell_type": "code",
      "metadata": {
        "id": "bOQTmqr3T94_",
        "colab_type": "code",
        "outputId": "feedf6f7-2d69-4d99-e107-a98cff47c19f",
        "colab": {
          "base_uri": "https://localhost:8080/",
          "height": 54
        }
      },
      "source": [
        "# Save debug and full train and test sets' indexes\n",
        "print('\\nSaving debug and full train and test sets indexes')\n",
        "debug_trainidx_path = compressed_path + 'debug_trainidx.pickle'\n",
        "debug_testidx_path = compressed_path + 'debug_testidx.pickle'\n",
        "full_trainidx_path = compressed_path + 'full_trainidx.pickle'\n",
        "full_testidx_path = compressed_path + 'full_testidx.pickle'\n",
        "save_as_pickle(debug_trainidx_path, debug_train.index)\n",
        "save_as_pickle(debug_testidx_path, debug_test.index)\n",
        "save_as_pickle(full_trainidx_path, full_train.index)\n",
        "save_as_pickle(full_testidx_path, full_test.index)"
      ],
      "execution_count": 0,
      "outputs": [
        {
          "output_type": "stream",
          "text": [
            "\n",
            "Saving debug and full train and test sets indexes\n"
          ],
          "name": "stdout"
        }
      ]
    },
    {
      "cell_type": "code",
      "metadata": {
        "id": "MtmSC_ZPUGPq",
        "colab_type": "code",
        "outputId": "00682474-8c7a-4266-dbc4-d56eb65469e1",
        "colab": {
          "base_uri": "https://localhost:8080/",
          "height": 54
        }
      },
      "source": [
        "# Save compressed datasets\n",
        "print('\\nSaving datasets...')\n",
        "save_as_h5py(compressed_path + 'debug_train.h5', debug_train)\n",
        "save_as_h5py(compressed_path + 'debug_test.h5', debug_test)\n",
        "save_as_h5py(compressed_path + 'full_train.h5', full_train)\n",
        "save_as_h5py(compressed_path + 'full_test.h5', full_test)"
      ],
      "execution_count": 0,
      "outputs": [
        {
          "output_type": "stream",
          "text": [
            "\n",
            "Saving datasets...\n"
          ],
          "name": "stdout"
        }
      ]
    }
  ]
}