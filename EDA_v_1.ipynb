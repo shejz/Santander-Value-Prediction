{
  "nbformat": 4,
  "nbformat_minor": 0,
  "metadata": {
    "language_info": {
      "name": "python",
      "version": "3.6.4",
      "mimetype": "text/x-python",
      "codemirror_mode": {
        "name": "ipython",
        "version": 3
      },
      "pygments_lexer": "ipython3",
      "nbconvert_exporter": "python",
      "file_extension": ".py"
    },
    "kernelspec": {
      "name": "python3",
      "display_name": "Python 3"
    },
    "colab": {
      "name": "EDA v.1.ipynb",
      "provenance": [],
      "collapsed_sections": [],
      "machine_shape": "hm"
    },
    "accelerator": "GPU"
  },
  "cells": [
    {
      "cell_type": "markdown",
      "metadata": {
        "id": "9fPP1C0dsk8F",
        "colab_type": "text"
      },
      "source": [
        "# Data Exploration and Preprocessing "
      ]
    },
    {
      "cell_type": "markdown",
      "metadata": {
        "id": "DhIEjw7msk8N",
        "colab_type": "text"
      },
      "source": [
        "This data exploration will aim to yield an introductory understanding of the Santander Value Prediction dataset."
      ]
    },
    {
      "cell_type": "markdown",
      "metadata": {
        "id": "atvPLf0Nsk8R",
        "colab_type": "text"
      },
      "source": [
        "## Load Libraries:"
      ]
    },
    {
      "cell_type": "code",
      "metadata": {
        "id": "wnw4sKjdsk8X",
        "colab_type": "code",
        "colab": {}
      },
      "source": [
        "import warnings\n",
        "warnings.filterwarnings('ignore')\n",
        "\n",
        "import numpy as np\n",
        "import pandas as pd\n",
        "import pickle as pkl\n",
        "\n",
        "import matplotlib.pyplot as plt\n",
        "import seaborn as sns\n",
        "\n",
        "import os\n",
        "import pdb\n",
        "import h5py\n",
        "\n",
        "from sklearn.decomposition import PCA"
      ],
      "execution_count": 0,
      "outputs": []
    },
    {
      "cell_type": "markdown",
      "metadata": {
        "id": "NGHqUuNcsk8j",
        "colab_type": "text"
      },
      "source": [
        "## Load the Data:"
      ]
    },
    {
      "cell_type": "code",
      "metadata": {
        "id": "-VxuQYPhsk8n",
        "colab_type": "code",
        "colab": {}
      },
      "source": [
        "train_df = pd.read_csv('/content/train.csv.zip', index_col='ID')\n",
        "test_df = pd.read_csv('/content/test.csv.zip', index_col='ID')"
      ],
      "execution_count": 0,
      "outputs": []
    },
    {
      "cell_type": "code",
      "metadata": {
        "id": "IprNoOs9sk8x",
        "colab_type": "code",
        "outputId": "b034f6cf-0190-4ae1-bcab-1e82edc2cd76",
        "colab": {
          "base_uri": "https://localhost:8080/",
          "height": 51
        }
      },
      "source": [
        "print('Shape of train dataframe: {} Rows, {} Columns'.format(*train_df.shape))\n",
        "print('Shape of test dataframe: {} Rows, {} Columns'.format(*test_df.shape))"
      ],
      "execution_count": 6,
      "outputs": [
        {
          "output_type": "stream",
          "text": [
            "Shape of train dataframe: 4459 Rows, 4992 Columns\n",
            "Shape of test dataframe: 49342 Rows, 4991 Columns\n"
          ],
          "name": "stdout"
        }
      ]
    },
    {
      "cell_type": "code",
      "metadata": {
        "id": "AEajTLNzsk8-",
        "colab_type": "code",
        "colab": {}
      },
      "source": [
        "# Separate the training labels\n",
        "labels = train_df.target\n",
        "train_df.drop(columns=['target'], inplace=True)"
      ],
      "execution_count": 0,
      "outputs": []
    },
    {
      "cell_type": "code",
      "metadata": {
        "id": "xtHNE-NLsk9J",
        "colab_type": "code",
        "outputId": "7f6e5f75-154f-43b2-c965-af5b1d9b5243",
        "colab": {
          "base_uri": "https://localhost:8080/",
          "height": 102
        }
      },
      "source": [
        "train_df.info()"
      ],
      "execution_count": 8,
      "outputs": [
        {
          "output_type": "stream",
          "text": [
            "<class 'pandas.core.frame.DataFrame'>\n",
            "Index: 4459 entries, 000d6aaf2 to ffeb15d25\n",
            "Columns: 4991 entries, 48df886f9 to 9fc776466\n",
            "dtypes: float64(1844), int64(3147)\n",
            "memory usage: 169.8+ MB\n"
          ],
          "name": "stdout"
        }
      ]
    },
    {
      "cell_type": "code",
      "metadata": {
        "id": "RiNzKj8ysk9V",
        "colab_type": "code",
        "outputId": "670e5a06-967f-47e8-c97b-40520a8879ca",
        "colab": {
          "base_uri": "https://localhost:8080/",
          "height": 102
        }
      },
      "source": [
        "test_df.info()"
      ],
      "execution_count": 9,
      "outputs": [
        {
          "output_type": "stream",
          "text": [
            "<class 'pandas.core.frame.DataFrame'>\n",
            "Index: 49342 entries, 000137c73 to fffbe2f6f\n",
            "Columns: 4991 entries, 48df886f9 to 9fc776466\n",
            "dtypes: float64(4991)\n",
            "memory usage: 1.8+ GB\n"
          ],
          "name": "stdout"
        }
      ]
    },
    {
      "cell_type": "markdown",
      "metadata": {
        "id": "VOaIGYEAsk9k",
        "colab_type": "text"
      },
      "source": [
        "## Dataset Exploration:"
      ]
    },
    {
      "cell_type": "code",
      "metadata": {
        "id": "FB4t6pOosk9n",
        "colab_type": "code",
        "outputId": "79405af8-3962-41a4-c0a4-164d3c8ecb04",
        "colab": {
          "base_uri": "https://localhost:8080/",
          "height": 51
        }
      },
      "source": [
        "# Find number of null values \n",
        "print ('Number of null values in training set:', train_df.isnull().sum().sum())\n",
        "print ('Number of null values in test set:', test_df.isnull().sum().sum())"
      ],
      "execution_count": 10,
      "outputs": [
        {
          "output_type": "stream",
          "text": [
            "Number of null values in training set: 0\n",
            "Number of null values in test set: 0\n"
          ],
          "name": "stdout"
        }
      ]
    },
    {
      "cell_type": "code",
      "metadata": {
        "id": "gB3JUJqmsk9x",
        "colab_type": "code",
        "colab": {}
      },
      "source": [
        "# Find sparsity of dataset\n",
        "def how_sparse(df):\n",
        "    num_nonzero = df.astype(bool).sum(axis=0).sum()\n",
        "    return(100 * num_nonzero/float(df.shape[0] * df.shape[1]))"
      ],
      "execution_count": 0,
      "outputs": []
    },
    {
      "cell_type": "code",
      "metadata": {
        "id": "8aZZaM52sk98",
        "colab_type": "code",
        "outputId": "a7715d17-aa78-4177-8b80-d35c8948da2d",
        "colab": {
          "base_uri": "https://localhost:8080/",
          "height": 51
        }
      },
      "source": [
        "print ('Sparsity of training data (in percent):', how_sparse(train_df))\n",
        "print ('Sparsity of test data (in percent):', how_sparse(test_df))"
      ],
      "execution_count": 12,
      "outputs": [
        {
          "output_type": "stream",
          "text": [
            "Sparsity of training data (in percent): 3.1458688882868735\n",
            "Sparsity of test data (in percent): 1.4052106649169267\n"
          ],
          "name": "stdout"
        }
      ]
    },
    {
      "cell_type": "code",
      "metadata": {
        "id": "IcIyASU3sk-J",
        "colab_type": "code",
        "colab": {}
      },
      "source": [
        "# How many columns have constant values? \n",
        "def is_constant(df):\n",
        "    constant = []\n",
        "    for column in df.columns.values:\n",
        "        if len(df[column].unique()) == 1:\n",
        "            constant.append(column)\n",
        "    return(constant)"
      ],
      "execution_count": 0,
      "outputs": []
    },
    {
      "cell_type": "code",
      "metadata": {
        "id": "hFDtkhZask-S",
        "colab_type": "code",
        "outputId": "c7fe5136-aaf7-4774-a26c-31c327627209",
        "colab": {
          "base_uri": "https://localhost:8080/",
          "height": 51
        }
      },
      "source": [
        "print ('Number of columns with constant values in train dataset:', len(is_constant(train_df)))\n",
        "print ('Number of columns with constant values in test dataset:', len(is_constant(test_df)))"
      ],
      "execution_count": 14,
      "outputs": [
        {
          "output_type": "stream",
          "text": [
            "Number of columns with constant values in train dataset: 256\n",
            "Number of columns with constant values in test dataset: 0\n"
          ],
          "name": "stdout"
        }
      ]
    },
    {
      "cell_type": "markdown",
      "metadata": {
        "id": "H1Du3aM2sk-c",
        "colab_type": "text"
      },
      "source": [
        "Interestingly, there are 256 columns in the training dataset that have constant values while there are 0 columns in the test dataset. This behavior is most likely due to the test dataset having almost 10x more samples than the training dataset. During the data preprocessing stage, the 256 columns with constant values will need to be removed from both the training and test sets."
      ]
    },
    {
      "cell_type": "code",
      "metadata": {
        "id": "Cp-e3daKsk-g",
        "colab_type": "code",
        "colab": {}
      },
      "source": [
        "drop_cols = is_constant(train_df)"
      ],
      "execution_count": 0,
      "outputs": []
    },
    {
      "cell_type": "code",
      "metadata": {
        "id": "7dkHrG2Esk-r",
        "colab_type": "code",
        "colab": {}
      },
      "source": [
        "# Drop constant columns\n",
        "train_df.drop(columns=drop_cols, axis=1, inplace=True)\n",
        "test_df.drop(columns=drop_cols, axis=1, inplace=True)"
      ],
      "execution_count": 0,
      "outputs": []
    },
    {
      "cell_type": "code",
      "metadata": {
        "id": "5-RKj9EIsk-5",
        "colab_type": "code",
        "outputId": "078ce2e4-01c4-4c60-f87b-68f916b76e90",
        "colab": {
          "base_uri": "https://localhost:8080/",
          "height": 51
        }
      },
      "source": [
        "print('Shape of training dataset: {} Rows, {} Columns'.format(*train_df.shape))\n",
        "print('Shape of test dataset: {} Rows, {} Columns'.format(*test_df.shape))"
      ],
      "execution_count": 17,
      "outputs": [
        {
          "output_type": "stream",
          "text": [
            "Shape of training dataset: 4459 Rows, 4735 Columns\n",
            "Shape of test dataset: 49342 Rows, 4735 Columns\n"
          ],
          "name": "stdout"
        }
      ]
    },
    {
      "cell_type": "code",
      "metadata": {
        "id": "_oiYTfM7sk_E",
        "colab_type": "code",
        "colab": {}
      },
      "source": [
        "# Finding duplicate columns\n",
        "def get_duplicates(df):\n",
        "    groups = df.columns.to_series().groupby(df.dtypes).groups\n",
        "    dups = []\n",
        "    \n",
        "    for t, v in groups.items():\n",
        "        cs = df[v].columns\n",
        "        vs = df[v]\n",
        "        lcs = len(cs)\n",
        "        \n",
        "        for i in range(lcs):\n",
        "            ia = vs.iloc[:, i].values\n",
        "            for j in range(i+1, lcs):\n",
        "                ja = vs.iloc[:, j].values\n",
        "                if np.array_equal(ia, ja):\n",
        "                    dups.append(cs[i])\n",
        "    return dups"
      ],
      "execution_count": 0,
      "outputs": []
    },
    {
      "cell_type": "code",
      "metadata": {
        "id": "-GI1OB-dsk_P",
        "colab_type": "code",
        "colab": {}
      },
      "source": [
        "duplicate_cols = get_duplicates(train_df)"
      ],
      "execution_count": 0,
      "outputs": []
    },
    {
      "cell_type": "code",
      "metadata": {
        "id": "AUa6aLGBsk_X",
        "colab_type": "code",
        "outputId": "6ba99147-5de0-4cc1-c076-0414640a6d95",
        "colab": {
          "base_uri": "https://localhost:8080/",
          "height": 51
        }
      },
      "source": [
        "print('Duplicate columns:\\n', set(duplicate_cols))"
      ],
      "execution_count": 20,
      "outputs": [
        {
          "output_type": "stream",
          "text": [
            "Duplicate columns:\n",
            " {'acc5b709d', '34ceb0081', '168b3e5bc', 'a765da8bc', '8d57e2749'}\n"
          ],
          "name": "stdout"
        }
      ]
    },
    {
      "cell_type": "code",
      "metadata": {
        "id": "CLpAyUFMsk_h",
        "colab_type": "code",
        "colab": {}
      },
      "source": [
        "# Remove duplicate columns\n",
        "train_df.drop(list(set(duplicate_cols)), axis=1, inplace=True)\n",
        "test_df.drop(list(set(duplicate_cols)), axis=1, inplace=True)"
      ],
      "execution_count": 0,
      "outputs": []
    },
    {
      "cell_type": "code",
      "metadata": {
        "id": "gNwEcu9Ssk_q",
        "colab_type": "code",
        "outputId": "87a61012-73d5-4e96-884f-51b6b02f53ca",
        "colab": {
          "base_uri": "https://localhost:8080/",
          "height": 51
        }
      },
      "source": [
        "print('Shape of training dataset: {} Rows, {} Columns'.format(*train_df.shape))\n",
        "print('Shape of test dataset: {} Rows, {} Columns'.format(*test_df.shape))"
      ],
      "execution_count": 22,
      "outputs": [
        {
          "output_type": "stream",
          "text": [
            "Shape of training dataset: 4459 Rows, 4730 Columns\n",
            "Shape of test dataset: 49342 Rows, 4730 Columns\n"
          ],
          "name": "stdout"
        }
      ]
    },
    {
      "cell_type": "markdown",
      "metadata": {
        "id": "RWtN3EsKsk_6",
        "colab_type": "text"
      },
      "source": [
        "### Correlation Analysis:"
      ]
    },
    {
      "cell_type": "code",
      "metadata": {
        "id": "JJtH6E-Vsk_9",
        "colab_type": "code",
        "colab": {}
      },
      "source": [
        "label_df = pd.DataFrame(data=labels)\n",
        "labeled_train = pd.concat([train_df, label_df], axis=1)\n",
        "train_corr = labeled_train.corr()"
      ],
      "execution_count": 0,
      "outputs": []
    },
    {
      "cell_type": "code",
      "metadata": {
        "id": "NXuccbCzslAG",
        "colab_type": "code",
        "outputId": "99d9a72f-c059-46bb-97d8-12b539a0691b",
        "colab": {
          "base_uri": "https://localhost:8080/",
          "height": 204
        }
      },
      "source": [
        "# Features most highly correlated with the label\n",
        "display(train_corr['target'].sort_values(ascending=False)[1:11])"
      ],
      "execution_count": 24,
      "outputs": [
        {
          "output_type": "display_data",
          "data": {
            "text/plain": [
              "555f18bd3    0.273379\n",
              "9fd594eec    0.270019\n",
              "5bc7ab64f    0.267858\n",
              "cbbc9c431    0.265005\n",
              "f190486d6    0.263821\n",
              "6b119d8ce    0.258290\n",
              "f74e8f13d    0.257238\n",
              "ac30af84a    0.256292\n",
              "26fc93eb7    0.255186\n",
              "58e2e02e6    0.254984\n",
              "Name: target, dtype: float64"
            ]
          },
          "metadata": {
            "tags": []
          }
        }
      ]
    },
    {
      "cell_type": "markdown",
      "metadata": {
        "id": "jeLd-hjAslAQ",
        "colab_type": "text"
      },
      "source": [
        "The list of features above are the training features that are most-correlated with the training labels. Intuitively, I expect these features to be the most important ones."
      ]
    },
    {
      "cell_type": "code",
      "metadata": {
        "id": "UqH7vgnKslAT",
        "colab_type": "code",
        "colab": {}
      },
      "source": [
        "# Save h5 files\n",
        "def saveh5(fname, data, dname):\n",
        "    h5f = h5py.File(fname, 'w')\n",
        "    h5f.create_dataset(dname, data=data)\n",
        "    h5f.close()\n",
        "    return None"
      ],
      "execution_count": 0,
      "outputs": []
    },
    {
      "cell_type": "code",
      "metadata": {
        "id": "u-qidTYLslAb",
        "colab_type": "code",
        "colab": {}
      },
      "source": [
        "# Save pickle file\n",
        "def savepickle(fname, data):\n",
        "    with open(fname, 'wb') as handle:\n",
        "        pkl.dump(data, handle)"
      ],
      "execution_count": 0,
      "outputs": []
    },
    {
      "cell_type": "code",
      "metadata": {
        "id": "bIOc5WLTslAp",
        "colab_type": "code",
        "colab": {}
      },
      "source": [
        "# Save preprocessed dataset (constant columns and duplicate columns removed):\n",
        "#saveh5('/content/train_s0_vanilla.h5', labeled_train, 'train_s0')\n",
        "#saveh5('/content/test_s0_vanilla.h5', test_df, 'test_s0')\n",
        "\n",
        "saveh5('/content/train_.h5', labeled_train, 'train_')\n",
        "saveh5('/content/test_.h5', test_df, 'test_')"
      ],
      "execution_count": 0,
      "outputs": []
    },
    {
      "cell_type": "code",
      "metadata": {
        "id": "BOC5rdHjslAy",
        "colab_type": "code",
        "colab": {}
      },
      "source": [
        "# Save training and test indexes\n",
        "savepickle('/content/train_idx.pkl', labeled_train.index.values)\n",
        "savepickle('/content/test_idx.pkl', test_df.index.values)"
      ],
      "execution_count": 0,
      "outputs": []
    },
    {
      "cell_type": "code",
      "metadata": {
        "id": "5i5GEErbslA5",
        "colab_type": "code",
        "colab": {}
      },
      "source": [
        "# Save training and test column names\n",
        "savepickle('/content/train_cols.pkl', labeled_train.columns.values)\n",
        "savepickle('/content/test_cols.pkl', test_df.columns.values)"
      ],
      "execution_count": 0,
      "outputs": []
    },
    {
      "cell_type": "markdown",
      "metadata": {
        "id": "5y5vQrsRslBG",
        "colab_type": "text"
      },
      "source": [
        "### PCA:\n",
        "Performing PCA on the combined training and test set will allow me to visualize the percentage of variance explained for all features in the dataset. By determining which features don't contribute much information, I can further trim the size of the dataset."
      ]
    },
    {
      "cell_type": "code",
      "metadata": {
        "id": "N5mHhRrjslBI",
        "colab_type": "code",
        "outputId": "f76e2b5e-c5ee-482e-c80d-605cc88bf3db",
        "colab": {
          "base_uri": "https://localhost:8080/",
          "height": 34
        }
      },
      "source": [
        "all_data = pd.concat([train_df, test_df], axis=0)\n",
        "print('Shape of all data: {} Rows, {} Columns'.format(*all_data.shape))"
      ],
      "execution_count": 30,
      "outputs": [
        {
          "output_type": "stream",
          "text": [
            "Shape of all data: 53801 Rows, 4730 Columns\n"
          ],
          "name": "stdout"
        }
      ]
    },
    {
      "cell_type": "code",
      "metadata": {
        "id": "XDlVVEvaslBX",
        "colab_type": "code",
        "outputId": "ab0b2e7c-1e1f-4bdf-ee67-6541e61ab7f0",
        "colab": {
          "base_uri": "https://localhost:8080/",
          "height": 51
        }
      },
      "source": [
        "# Fit PCA model\n",
        "pca = PCA()\n",
        "pca.fit(all_data)"
      ],
      "execution_count": 31,
      "outputs": [
        {
          "output_type": "execute_result",
          "data": {
            "text/plain": [
              "PCA(copy=True, iterated_power='auto', n_components=None, random_state=None,\n",
              "    svd_solver='auto', tol=0.0, whiten=False)"
            ]
          },
          "metadata": {
            "tags": []
          },
          "execution_count": 31
        }
      ]
    },
    {
      "cell_type": "code",
      "metadata": {
        "id": "oMy-MwP4slBh",
        "colab_type": "code",
        "colab": {}
      },
      "source": [
        "ratios = np.cumsum(pca.explained_variance_ratio_)"
      ],
      "execution_count": 0,
      "outputs": []
    },
    {
      "cell_type": "code",
      "metadata": {
        "id": "cdkBVtIcslBs",
        "colab_type": "code",
        "outputId": "b13cfebd-39a9-4d13-b855-ac84da661a59",
        "colab": {
          "base_uri": "https://localhost:8080/",
          "height": 513
        }
      },
      "source": [
        "plt.figure(figsize=(10, 8))\n",
        "plt.plot(ratios)\n",
        "plt.title('Explained Variance Plot for All Data')\n",
        "plt.xlabel('Number of Components')\n",
        "plt.yticks(np.arange(0, 1.2, step=0.1))\n",
        "plt.grid(True)\n",
        "plt.show()"
      ],
      "execution_count": 33,
      "outputs": [
        {
          "output_type": "display_data",
          "data": {
            "image/png": "[encoded data removed]",
            "text/plain": [
              "<Figure size 720x576 with 1 Axes>"
            ]
          },
          "metadata": {
            "tags": []
          }
        }
      ]
    },
    {
      "cell_type": "markdown",
      "metadata": {
        "id": "XhK4wGjTslB2",
        "colab_type": "text"
      },
      "source": [
        "The plot of explained variance for both train and test data show that the first **3000** features account for 95% of the variance in both datasets. This will be information that I'll use in subsequent preprocessing efforts. "
      ]
    },
    {
      "cell_type": "markdown",
      "metadata": {
        "id": "ScqKtpZdslB4",
        "colab_type": "text"
      },
      "source": [
        "### Distribution of Training Labels:"
      ]
    },
    {
      "cell_type": "code",
      "metadata": {
        "id": "EHrtkGmtslB6",
        "colab_type": "code",
        "outputId": "046a9486-580b-4ee2-ec91-093efef9dcbd",
        "colab": {
          "base_uri": "https://localhost:8080/",
          "height": 404
        }
      },
      "source": [
        "plt.figure(figsize=(10, 6))\n",
        "sns.distplot(np.log1p(labels), color='green', kde=True, bins=100)\n",
        "plt.title('Distribution of log(target) Values')\n",
        "plt.xlabel('log(target)')\n",
        "plt.show()"
      ],
      "execution_count": 34,
      "outputs": [
        {
          "output_type": "display_data",
          "data": {
            "image/png": "[encoded data removed]",
            "text/plain": [
              "<Figure size 720x432 with 1 Axes>"
            ]
          },
          "metadata": {
            "tags": []
          }
        }
      ]
    }
  ]
}